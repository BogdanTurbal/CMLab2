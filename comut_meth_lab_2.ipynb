{
 "cells": [
  {
   "cell_type": "code",
   "execution_count": 1,
   "id": "e6d5aa11",
   "metadata": {},
   "outputs": [],
   "source": [
    "import numpy as np\n",
    "import math\n",
    "from copy import deepcopy"
   ]
  },
  {
   "cell_type": "code",
   "execution_count": 2,
   "id": "56cc6131",
   "metadata": {},
   "outputs": [],
   "source": [
    "A = np.array([[3, -0.7, -1, 0.3], [-0.7, 4, 0.5, 1], [-1, 0.5, 4, 0.5], [0.2, 1, 0.5, 3]])"
   ]
  },
  {
   "cell_type": "code",
   "execution_count": 3,
   "id": "fc1ca7f8",
   "metadata": {},
   "outputs": [
    {
     "data": {
      "text/plain": [
       "array([[ 3. , -0.7, -1. ,  0.3],\n",
       "       [-0.7,  4. ,  0.5,  1. ],\n",
       "       [-1. ,  0.5,  4. ,  0.5],\n",
       "       [ 0.2,  1. ,  0.5,  3. ]])"
      ]
     },
     "execution_count": 3,
     "metadata": {},
     "output_type": "execute_result"
    }
   ],
   "source": [
    "A"
   ]
  },
  {
   "cell_type": "code",
   "execution_count": 4,
   "id": "20ab6d8d",
   "metadata": {},
   "outputs": [],
   "source": [
    "b = np.array([1, 1.5, 1.75, 1.5])"
   ]
  },
  {
   "cell_type": "code",
   "execution_count": 5,
   "id": "9a6e8886",
   "metadata": {},
   "outputs": [
    {
     "data": {
      "text/plain": [
       "array([1.  , 1.5 , 1.75, 1.5 ])"
      ]
     },
     "execution_count": 5,
     "metadata": {},
     "output_type": "execute_result"
    }
   ],
   "source": [
    "b"
   ]
  },
  {
   "cell_type": "code",
   "execution_count": 63,
   "id": "6b5003a6",
   "metadata": {},
   "outputs": [],
   "source": [
    "def yacob(x0, A, b, eps):\n",
    "    x_old = deepcopy(x0)\n",
    "    x_new = deepcopy(x0)\n",
    "    k = 1\n",
    "    while True:\n",
    "        for i in range(A.shape[0]):\n",
    "            x_new[i] = float(np.sum([- A[i][j] / A[i][i] * x_old[j] for j in range(A.shape[1])] + [1 * x_old[i], b[i] / A[i][i]]))\n",
    "        print(f'it: {k} {x_new}')\n",
    "        print(f\"A * x =\", np.dot(A, x_new))\n",
    "        if k == 1:\n",
    "            print(f'norm of vector(|| x[{k}] - x[{k-1}]||) = {np.linalg.norm(x_new - x_old)}')\n",
    "        if np.linalg.norm(x_new - x_old) < eps:\n",
    "            print(f'norm of vector(|| x[{k}] - x[{k-1}]||) = {np.linalg.norm(x_new - x_old)}')\n",
    "            return x_new\n",
    "        \n",
    "        x_old = deepcopy(x_new)\n",
    "        k += 1"
   ]
  },
  {
   "cell_type": "code",
   "execution_count": 64,
   "id": "3625683d",
   "metadata": {},
   "outputs": [],
   "source": [
    "x0 = np.array([0, 0, 0, 0], dtype=np.float32)"
   ]
  },
  {
   "cell_type": "code",
   "execution_count": 65,
   "id": "433d054d",
   "metadata": {},
   "outputs": [
    {
     "name": "stdout",
     "output_type": "stream",
     "text": [
      "it: 1 [0.33333334 0.375      0.4375     0.5       ]\n",
      "A * x = [0.45000003 1.98541666 1.85416666 2.16041667]\n",
      "norm of vector(|| x[1] - x[0]||) = 0.8325517177581787\n",
      "it: 2 [0.51666665 0.25364584 0.41145834 0.27986112]\n",
      "A * x = [1.04494786 1.13850699 1.3959202  1.40229171]\n",
      "it: 3 [0.501684   0.3440191  0.4999783  0.31243056]\n",
      "A * x = [0.85798953 1.58731725 1.82645403 1.63163672]\n",
      "it: 4 [0.5490208  0.32218978 0.4808648  0.26855165]\n",
      "A * x = [1.02123034 1.41342858 1.66980906 1.47808128]\n",
      "it: 5 [0.541944   0.34383264 0.50091255 0.2758579 ]\n",
      "A * x = [0.96699405 1.52228392 1.77155143 1.53025141]\n",
      "it: 6 [0.55294603 0.33826166 0.4955247  0.2657741 ]\n",
      "A * x = [1.00626245 1.47952089 1.73117067 1.49393553]\n",
      "it: 7 [0.55085856 0.34338143 0.50023204 0.2677956 ]\n",
      "A * x = [0.9923153  1.50583636 1.75565812 1.50705594]\n",
      "it: 8 [0.5534201  0.34192234 0.4988175  0.26544362]\n",
      "A * x = [1.00173032 1.49514766 1.74553287 1.49834599]\n",
      "it: 9 [0.55284333 0.34313542 0.4999343  0.26599497]\n",
      "A * x = [0.99819941 1.50151344 1.751459   1.50165612]\n",
      "it: 10 [0.55344355 0.34275705 0.49956954 0.26544294]\n",
      "A * x = [1.00046407 1.4988454  1.74893458 1.49955934]\n",
      "it: 11 [0.5532889  0.34304568 0.49983588 0.26558983]\n",
      "A * x = [0.99957573 1.50038829 1.75037239 1.5003909 ]\n",
      "it: 12 [0.5534303  0.34294862 0.49974278 0.26545954]\n",
      "A * x = [1.00012201 1.49972416 1.74974486 1.49988468]\n",
      "it: 13 [0.55338967 0.34301758 0.49980655 0.26549798]\n",
      "A * x = [0.99989954 1.5000988  1.75009432 1.50009274]\n",
      "it: 14 [0.55342317 0.34299287 0.49978298 0.26546708]\n",
      "A * x = [1.00003163 1.49993384 1.74993873 1.49997023]\n",
      "norm of vector(|| x[14] - x[13]||) = 5.6950259022414684e-05\n"
     ]
    },
    {
     "data": {
      "text/plain": [
       "array([0.55342317, 0.34299287, 0.49978298, 0.26546708], dtype=float32)"
      ]
     },
     "execution_count": 65,
     "metadata": {},
     "output_type": "execute_result"
    }
   ],
   "source": [
    "yacob(x0, A, b, 0.0001)"
   ]
  },
  {
   "cell_type": "code",
   "execution_count": 66,
   "id": "7cad2827",
   "metadata": {},
   "outputs": [],
   "source": [
    "def seidel(x0, A, b, eps):\n",
    "    x_old = deepcopy(x0)\n",
    "    x_new = deepcopy(x0)\n",
    "    k = 1\n",
    "    while True:\n",
    "        for i in range(A.shape[0]):\n",
    "            x_new[i] = float(np.sum([- A[i][j] / A[i][i] * x_new[j] for j in range(i)] +\n",
    "                                    [- A[i][j] / A[i][i] * x_old[j] for j in range(i, A.shape[1])] +  [1 * x_old[i], b[i] / A[i][i]]))\n",
    "        print(f'it: {k} {x_new}')\n",
    "        print(f\"A * x =\", np.dot(A, x_new))\n",
    "        if k == 1:\n",
    "            print(f'norm of vector(|| x[{k}] - x[{k-1}]||) = {np.linalg.norm(x_new - x_old)}')\n",
    "        if np.linalg.norm(x_new - x_old) < eps:\n",
    "            print(f'norm of vector(|| x[{k}] - x[{k-1}]||) = {np.linalg.norm(x_new - x_old)}')\n",
    "            return x_new\n",
    "        x_old = deepcopy(x_new)\n",
    "        k += 1"
   ]
  },
  {
   "cell_type": "code",
   "execution_count": 67,
   "id": "8ead8215",
   "metadata": {},
   "outputs": [
    {
     "name": "stdout",
     "output_type": "stream",
     "text": [
      "it: 1 [0.33333334 0.43333334 0.46666667 0.25555554]\n",
      "A * x = [0.30666669 1.98888888 1.87777777 1.49999996]\n",
      "norm of vector(|| x[1] - x[0]||) = 0.7628730535507202\n",
      "it: 2 [0.5644444  0.35155556 0.5027222  0.26139817]\n",
      "A * x = [1.02294163 1.5238704  1.75292125 1.50000004]\n",
      "it: 3 [0.5567972 0.3442497 0.5009933 0.2646314]\n",
      "A * x = [1.00781294 1.50236878 1.75161658 1.49999996]\n",
      "it: 4 [0.5541929  0.34320176 0.5000691  0.26530838]\n",
      "A * x = [1.0018609  1.50021492 1.75033849 1.50000002]\n",
      "it: 5 [0.5535726  0.34303948 0.49984968 0.26544037]\n",
      "A * x = [1.00037258 1.50002233 1.75006604 1.49999996]\n",
      "it: 6 [0.5534484  0.34301215 0.49980554 0.26546514]\n",
      "A * x = [1.00007063 1.50000266 1.75001243 1.50000002]\n",
      "it: 7 [0.55342484 0.34300736 0.49979714 0.2654697 ]\n",
      "A * x = [1.00001313 1.50000031 1.75000224 1.49999999]\n",
      "norm of vector(|| x[7] - x[6]||) = 2.5860346795525402e-05\n"
     ]
    },
    {
     "data": {
      "text/plain": [
       "array([0.55342484, 0.34300736, 0.49979714, 0.2654697 ], dtype=float32)"
      ]
     },
     "execution_count": 67,
     "metadata": {},
     "output_type": "execute_result"
    }
   ],
   "source": [
    "seidel(x0, A, b, 0.0001)"
   ]
  },
  {
   "cell_type": "code",
   "execution_count": 38,
   "id": "e223256c",
   "metadata": {},
   "outputs": [],
   "source": [
    "def inv_mat(A):\n",
    "    n = A.shape[0]\n",
    "    I = np.identity(n)\n",
    "    M = np.concatenate((A, I), axis=1)\n",
    "    det = 1\n",
    "    for i in range(0, n):\n",
    "        pivot = M[i][i]\n",
    "        row = M[i]\n",
    "        det *= pivot\n",
    "        M[i] = row / pivot\n",
    "        for j in [k for k in range(0, n) if k != i]:\n",
    "        # subtract current row from remaining rows\n",
    "            M[j] = M[j] - M[i] * M[j][i]\n",
    "\n",
    "  # extract inverse matrix\n",
    "        inverse = M[:, n:]\n",
    "    \n",
    "    return inverse, det"
   ]
  },
  {
   "cell_type": "code",
   "execution_count": 45,
   "id": "af596025",
   "metadata": {},
   "outputs": [],
   "source": [
    "#EXPLORATION"
   ]
  },
  {
   "cell_type": "code",
   "execution_count": 46,
   "id": "059e4d54",
   "metadata": {},
   "outputs": [
    {
     "data": {
      "text/plain": [
       "array([[ 3. , -0.7, -1. ,  0.3],\n",
       "       [-0.7,  4. ,  0.5,  1. ],\n",
       "       [-1. ,  0.5,  4. ,  0.5],\n",
       "       [ 0.2,  1. ,  0.5,  3. ]])"
      ]
     },
     "execution_count": 46,
     "metadata": {},
     "output_type": "execute_result"
    }
   ],
   "source": [
    "A"
   ]
  },
  {
   "cell_type": "code",
   "execution_count": 49,
   "id": "9ef6b440",
   "metadata": {},
   "outputs": [],
   "source": [
    "inv_A, det = inv_mat(A)"
   ]
  },
  {
   "cell_type": "code",
   "execution_count": 50,
   "id": "19574662",
   "metadata": {},
   "outputs": [
    {
     "data": {
      "text/plain": [
       "array([[ 0.38904309,  0.07598853,  0.09782955, -0.08053875],\n",
       "       [ 0.07257587,  0.28902944, -0.00514174, -0.10274378],\n",
       "       [ 0.09646449, -0.00455021,  0.28156709, -0.05505756],\n",
       "       [-0.06620558, -0.10065068, -0.05173591,  0.38212677]])"
      ]
     },
     "execution_count": 50,
     "metadata": {},
     "output_type": "execute_result"
    }
   ],
   "source": [
    "inv_A"
   ]
  },
  {
   "cell_type": "code",
   "execution_count": 51,
   "id": "414f0067",
   "metadata": {},
   "outputs": [],
   "source": [
    "def p2_mat_norm(A):\n",
    "    M = np.dot(A, A.T)\n",
    "    w, v = np.linalg.eig(M)\n",
    "    max_w = np.max(w)\n",
    "    return np.sqrt(max_w)"
   ]
  },
  {
   "cell_type": "code",
   "execution_count": 52,
   "id": "2d5e4a1d",
   "metadata": {},
   "outputs": [
    {
     "name": "stdout",
     "output_type": "stream",
     "text": [
      "5.452729686790202\n"
     ]
    }
   ],
   "source": [
    "norm_A = p2_mat_norm(A)\n",
    "print(norm_A)"
   ]
  },
  {
   "cell_type": "code",
   "execution_count": 53,
   "id": "7c9e114a",
   "metadata": {},
   "outputs": [
    {
     "name": "stdout",
     "output_type": "stream",
     "text": [
      "0.556576660002211\n"
     ]
    }
   ],
   "source": [
    "norm_inv_A = p2_mat_norm(inv_A)\n",
    "print(norm_inv_A)"
   ]
  },
  {
   "cell_type": "code",
   "execution_count": 55,
   "id": "85781554",
   "metadata": {},
   "outputs": [
    {
     "name": "stdout",
     "output_type": "stream",
     "text": [
      "3.034862076968593\n"
     ]
    }
   ],
   "source": [
    "cond = norm_A * norm_inv_A\n",
    "print(cond)"
   ]
  },
  {
   "cell_type": "code",
   "execution_count": null,
   "id": "2384c5d3",
   "metadata": {},
   "outputs": [],
   "source": []
  }
 ],
 "metadata": {
  "kernelspec": {
   "display_name": "Python [conda env:ml] *",
   "language": "python",
   "name": "conda-env-ml-py"
  },
  "language_info": {
   "codemirror_mode": {
    "name": "ipython",
    "version": 3
   },
   "file_extension": ".py",
   "mimetype": "text/x-python",
   "name": "python",
   "nbconvert_exporter": "python",
   "pygments_lexer": "ipython3",
   "version": "3.10.9"
  }
 },
 "nbformat": 4,
 "nbformat_minor": 5
}
